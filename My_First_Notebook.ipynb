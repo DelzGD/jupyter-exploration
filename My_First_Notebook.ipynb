{
 "cells": [
  {
   "cell_type": "markdown",
   "id": "c5305d02",
   "metadata": {},
   "source": [
    "this is an example of what markdowns are"
   ]
  },
  {
   "cell_type": "code",
   "execution_count": 1,
   "id": "f3b3c5c7",
   "metadata": {},
   "outputs": [
    {
     "name": "stdout",
     "output_type": "stream",
     "text": [
      "How is your day today?\n"
     ]
    }
   ],
   "source": [
    "print(\"How is your day today?\")"
   ]
  },
  {
   "cell_type": "markdown",
   "id": "9015e420",
   "metadata": {},
   "source": [
    "Markdowns can be used as annotations and explanations on how the code works and what they do. For example, using \"print\", you are able to send messages like in the code above. "
   ]
  },
  {
   "cell_type": "code",
   "execution_count": 19,
   "id": "774cd86f",
   "metadata": {},
   "outputs": [
    {
     "name": "stdout",
     "output_type": "stream",
     "text": [
      "0\n",
      "4\n",
      "8\n",
      "12\n",
      "16\n",
      "20\n",
      "24\n",
      "28\n",
      "32\n"
     ]
    }
   ],
   "source": [
    "for x in range(0,35,4):\n",
    "    print (x)"
   ]
  },
  {
   "cell_type": "markdown",
   "id": "31deb11e",
   "metadata": {},
   "source": [
    "For this type of code, using the (1,2,3) format, 1 is the number you want to start with, 2 would be the max number you would want to stop at, and 3 would be the number the max number is divisible by. For example is 2 was 12 and 3 was 4, it would print every number divisible by 4. "
   ]
  },
  {
   "cell_type": "code",
   "execution_count": null,
   "id": "4ae98f0e",
   "metadata": {},
   "outputs": [],
   "source": []
  }
 ],
 "metadata": {
  "kernelspec": {
   "display_name": "Python 3 (ipykernel)",
   "language": "python",
   "name": "python3"
  },
  "language_info": {
   "codemirror_mode": {
    "name": "ipython",
    "version": 3
   },
   "file_extension": ".py",
   "mimetype": "text/x-python",
   "name": "python",
   "nbconvert_exporter": "python",
   "pygments_lexer": "ipython3",
   "version": "3.11.5"
  }
 },
 "nbformat": 4,
 "nbformat_minor": 5
}
